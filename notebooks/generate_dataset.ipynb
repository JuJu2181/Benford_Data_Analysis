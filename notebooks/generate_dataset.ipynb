{
 "cells": [
  {
   "cell_type": "code",
   "execution_count": 1,
   "metadata": {},
   "outputs": [],
   "source": [
    "import pandas as pd \n",
    "import numpy as np\n",
    "import matplotlib.pyplot as plt "
   ]
  },
  {
   "cell_type": "code",
   "execution_count": 5,
   "metadata": {},
   "outputs": [
    {
     "name": "stdout",
     "output_type": "stream",
     "text": [
      "(3001, 12)\n"
     ]
    },
    {
     "data": {
      "text/html": [
       "<div>\n",
       "<style scoped>\n",
       "    .dataframe tbody tr th:only-of-type {\n",
       "        vertical-align: middle;\n",
       "    }\n",
       "\n",
       "    .dataframe tbody tr th {\n",
       "        vertical-align: top;\n",
       "    }\n",
       "\n",
       "    .dataframe thead th {\n",
       "        text-align: right;\n",
       "    }\n",
       "</style>\n",
       "<table border=\"1\" class=\"dataframe\">\n",
       "  <thead>\n",
       "    <tr style=\"text-align: right;\">\n",
       "      <th></th>\n",
       "      <th>Player</th>\n",
       "      <th>Span</th>\n",
       "      <th>Mat</th>\n",
       "      <th>Inn</th>\n",
       "      <th>NO</th>\n",
       "      <th>Runs</th>\n",
       "      <th>HS</th>\n",
       "      <th>Avg</th>\n",
       "      <th>100</th>\n",
       "      <th>50</th>\n",
       "      <th>0</th>\n",
       "      <th>Player Profile</th>\n",
       "    </tr>\n",
       "  </thead>\n",
       "  <tbody>\n",
       "    <tr>\n",
       "      <th>0</th>\n",
       "      <td>SR Tendulkar (INDIA)</td>\n",
       "      <td>1989-2013</td>\n",
       "      <td>200</td>\n",
       "      <td>329</td>\n",
       "      <td>33</td>\n",
       "      <td>15921</td>\n",
       "      <td>248*</td>\n",
       "      <td>53.78</td>\n",
       "      <td>51</td>\n",
       "      <td>68</td>\n",
       "      <td>14</td>\n",
       "      <td>http://stats.espncricinfo.com/ci/content/playe...</td>\n",
       "    </tr>\n",
       "    <tr>\n",
       "      <th>1</th>\n",
       "      <td>RT Ponting (AUS)</td>\n",
       "      <td>1995-2012</td>\n",
       "      <td>168</td>\n",
       "      <td>287</td>\n",
       "      <td>29</td>\n",
       "      <td>13378</td>\n",
       "      <td>257</td>\n",
       "      <td>51.85</td>\n",
       "      <td>41</td>\n",
       "      <td>62</td>\n",
       "      <td>17</td>\n",
       "      <td>http://stats.espncricinfo.com/ci/content/playe...</td>\n",
       "    </tr>\n",
       "    <tr>\n",
       "      <th>2</th>\n",
       "      <td>JH Kallis (ICC/SA)</td>\n",
       "      <td>1995-2013</td>\n",
       "      <td>166</td>\n",
       "      <td>280</td>\n",
       "      <td>40</td>\n",
       "      <td>13289</td>\n",
       "      <td>224</td>\n",
       "      <td>55.37</td>\n",
       "      <td>45</td>\n",
       "      <td>58</td>\n",
       "      <td>16</td>\n",
       "      <td>http://stats.espncricinfo.com/ci/content/playe...</td>\n",
       "    </tr>\n",
       "    <tr>\n",
       "      <th>3</th>\n",
       "      <td>R Dravid (ICC/INDIA)</td>\n",
       "      <td>1996-2012</td>\n",
       "      <td>164</td>\n",
       "      <td>286</td>\n",
       "      <td>32</td>\n",
       "      <td>13288</td>\n",
       "      <td>270</td>\n",
       "      <td>52.31</td>\n",
       "      <td>36</td>\n",
       "      <td>63</td>\n",
       "      <td>8</td>\n",
       "      <td>http://stats.espncricinfo.com/ci/content/playe...</td>\n",
       "    </tr>\n",
       "    <tr>\n",
       "      <th>4</th>\n",
       "      <td>AN Cook (ENG)</td>\n",
       "      <td>2006-2018</td>\n",
       "      <td>161</td>\n",
       "      <td>291</td>\n",
       "      <td>16</td>\n",
       "      <td>12472</td>\n",
       "      <td>294</td>\n",
       "      <td>45.35</td>\n",
       "      <td>33</td>\n",
       "      <td>57</td>\n",
       "      <td>9</td>\n",
       "      <td>http://stats.espncricinfo.com/ci/content/playe...</td>\n",
       "    </tr>\n",
       "  </tbody>\n",
       "</table>\n",
       "</div>"
      ],
      "text/plain": [
       "                 Player       Span  Mat  Inn  NO   Runs    HS    Avg 100  50  \\\n",
       "0  SR Tendulkar (INDIA)  1989-2013  200  329  33  15921  248*  53.78  51  68   \n",
       "1      RT Ponting (AUS)  1995-2012  168  287  29  13378   257  51.85  41  62   \n",
       "2    JH Kallis (ICC/SA)  1995-2013  166  280  40  13289   224  55.37  45  58   \n",
       "3  R Dravid (ICC/INDIA)  1996-2012  164  286  32  13288   270  52.31  36  63   \n",
       "4         AN Cook (ENG)  2006-2018  161  291  16  12472   294  45.35  33  57   \n",
       "\n",
       "    0                                     Player Profile  \n",
       "0  14  http://stats.espncricinfo.com/ci/content/playe...  \n",
       "1  17  http://stats.espncricinfo.com/ci/content/playe...  \n",
       "2  16  http://stats.espncricinfo.com/ci/content/playe...  \n",
       "3   8  http://stats.espncricinfo.com/ci/content/playe...  \n",
       "4   9  http://stats.espncricinfo.com/ci/content/playe...  "
      ]
     },
     "execution_count": 5,
     "metadata": {},
     "output_type": "execute_result"
    }
   ],
   "source": [
    "cricket_data = pd.read_csv(r\"D:\\Documents\\Study\\Coderush\\Projects\\Challenges\\Challenge_2\\notebooks\\ICC Test Batting Figures.csv\",encoding='ISO-8859-1')\n",
    "print(cricket_data.shape)\n",
    "cricket_data.head()"
   ]
  },
  {
   "cell_type": "code",
   "execution_count": 7,
   "metadata": {},
   "outputs": [],
   "source": [
    "matches = cricket_data.Mat\n",
    "innings = cricket_data.Inn \n",
    "runs = cricket_data.Runs \n",
    "high_score = cricket_data['HS']\n",
    "average_score = cricket_data.Avg \n",
    "centuries = cricket_data['100']\n",
    "half_centuries = cricket_data['50']\n",
    "ducks = cricket_data['0']"
   ]
  },
  {
   "cell_type": "code",
   "execution_count": 9,
   "metadata": {},
   "outputs": [],
   "source": [
    "matches.to_csv(\"matches.csv\",index=False)\n",
    "innings.to_csv(\"innings.csv\",index=False)\n",
    "runs.to_csv(\"runs.csv\",index=False)\n",
    "high_score.to_csv(\"high_score.csv\",index=False)\n",
    "average_score.to_csv(\"average_score.csv\",index=False)\n",
    "centuries.to_csv(\"centuries.csv\",index=False)\n",
    "half_centuries.to_csv(\"half_centuries.csv\",index=False)\n",
    "ducks.to_csv(\"ducks.csv\",index=False)"
   ]
  },
  {
   "cell_type": "code",
   "execution_count": 16,
   "metadata": {},
   "outputs": [
    {
     "name": "stdout",
     "output_type": "stream",
     "text": [
      "   Numbers\n",
      "0      572\n",
      "1      879\n",
      "2      529\n",
      "3      588\n",
      "4      184\n"
     ]
    }
   ],
   "source": [
    "# random data \n",
    "data = {\n",
    "    \"Numbers\":np.random.randint(1,1000,15000)\n",
    "}\n",
    "df = pd.DataFrame(data)\n",
    "\n",
    "print(df.head())"
   ]
  },
  {
   "cell_type": "code",
   "execution_count": 17,
   "metadata": {},
   "outputs": [],
   "source": [
    "df.to_csv(\"random.csv\",index=False)"
   ]
  },
  {
   "attachments": {},
   "cell_type": "markdown",
   "metadata": {},
   "source": [
    "Now checking for Benford's law"
   ]
  },
  {
   "cell_type": "code",
   "execution_count": 59,
   "metadata": {},
   "outputs": [],
   "source": [
    "def isnumeric(x):\n",
    "    try:\n",
    "        x = int(x)\n",
    "        return True \n",
    "    except:\n",
    "        return False "
   ]
  },
  {
   "cell_type": "code",
   "execution_count": 71,
   "metadata": {},
   "outputs": [],
   "source": [
    "def get_data_distribution(filepath):\n",
    "    df = pd.read_csv(filepath)\n",
    "    df['leading_digit'] = df.iloc[:,0].apply(lambda x:str(x)[0])\n",
    "    leading_digits_count = df['leading_digit'].value_counts()\n",
    "    leading_digits_dict = leading_digits_count.to_dict()\n",
    "    filtered_dict = {}\n",
    "    for k in leading_digits_dict:\n",
    "        if isnumeric(k):\n",
    "            if int(k) > 0:\n",
    "                filtered_dict[k] = leading_digits_dict[k]\n",
    "    probability_dict = {k: filtered_dict[k]/sum(filtered_dict.values()) for k in filtered_dict.keys()}\n",
    "    fig = plt.figure(figsize=(10,5))\n",
    "    plt.bar(probability_dict.keys(),probability_dict.values())\n",
    "    plt.xlabel(\"Leading Digits\")\n",
    "    plt.ylabel(\"Probability\")\n",
    "    plt.title(\"Probability distribution of first significant digit\")\n",
    "    plt.savefig(\"data_distribution.png\")\n",
    "    plt.show()\n",
    "    return probability_dict"
   ]
  },
  {
   "cell_type": "code",
   "execution_count": 72,
   "metadata": {},
   "outputs": [
    {
     "data": {
      "image/png": "[encoded data removed]",
      "text/plain": [
       "<Figure size 720x360 with 1 Axes>"
      ]
     },
     "metadata": {
      "needs_background": "light"
     },
     "output_type": "display_data"
    },
    {
     "data": {
      "text/plain": [
       "{'1': 0.28473881870945716,\n",
       " '2': 0.18333902355752818,\n",
       " '3': 0.12154318880163878,\n",
       " '4': 0.09047456469784909,\n",
       " '5': 0.08091498805052919,\n",
       " '6': 0.06794127688630933,\n",
       " '7': 0.06247866165926937,\n",
       " '8': 0.05804028678729942,\n",
       " '9': 0.0505291908501195}"
      ]
     },
     "execution_count": 72,
     "metadata": {},
     "output_type": "execute_result"
    }
   ],
   "source": [
    "get_data_distribution(r\"D:\\Documents\\Study\\Coderush\\Projects\\Challenges\\Challenge_2\\notebooks\\runs.csv\")"
   ]
  },
  {
   "cell_type": "code",
   "execution_count": 88,
   "metadata": {},
   "outputs": [],
   "source": [
    "def check_benford_law(filepath):\n",
    "    benford_distribution = {str(k): np.log10(1+(1/k)) for k in range(1,10)}\n",
    "    observed_distribution = get_data_distribution(filepath)\n",
    "    # checking if the highest value is of 1 or not\n",
    "    # observed_max_key = max(observed_distribution,key=observed_distribution.get)\n",
    "    # benford_max_key = max(benford_distribution,key=benford_distribution.get)\n",
    "    # return True if observed_max_key == benford_max_key else False\n",
    "    \n",
    "    # checking if the absolute deviation between numbers is within limit\n",
    "    # limit = 0.02 \n",
    "    # ans = True\n",
    "    # differences = {}\n",
    "    # for k in benford_distribution.keys():\n",
    "    #     differences[k] = abs(benford_distribution[k] - observed_distribution[k])\n",
    "    #     if differences[k] > limit:\n",
    "    #         ans = False \n",
    "    # print(differences)\n",
    "    # return ans\n",
    "    \n",
    "    # checking key order\n",
    "    benford_key_order = list(benford_distribution.keys()) \n",
    "    observed_key_order = list(observed_distribution.keys())\n",
    "    if benford_key_order == observed_key_order:\n",
    "        return True \n",
    "    else:\n",
    "        return False "
   ]
  },
  {
   "cell_type": "code",
   "execution_count": 89,
   "metadata": {},
   "outputs": [
    {
     "data": {
      "image/png": "[encoded data removed]",
      "text/plain": [
       "<Figure size 720x360 with 1 Axes>"
      ]
     },
     "metadata": {
      "needs_background": "light"
     },
     "output_type": "display_data"
    },
    {
     "data": {
      "text/plain": [
       "True"
      ]
     },
     "execution_count": 89,
     "metadata": {},
     "output_type": "execute_result"
    }
   ],
   "source": [
    "check_benford_law(r\"D:\\Documents\\Study\\Coderush\\Projects\\Challenges\\Challenge_2\\notebooks\\centuries.csv\")"
   ]
  },
  {
   "cell_type": "code",
   "execution_count": 38,
   "metadata": {},
   "outputs": [
    {
     "data": {
      "text/plain": [
       "0    572\n",
       "1    879\n",
       "2    529\n",
       "3    588\n",
       "4    184\n",
       "Name: Numbers, dtype: int32"
      ]
     },
     "execution_count": 38,
     "metadata": {},
     "output_type": "execute_result"
    }
   ],
   "source": [
    "df.iloc[:,0].head()"
   ]
  },
  {
   "cell_type": "code",
   "execution_count": 18,
   "metadata": {},
   "outputs": [
    {
     "data": {
      "text/html": [
       "<div>\n",
       "<style scoped>\n",
       "    .dataframe tbody tr th:only-of-type {\n",
       "        vertical-align: middle;\n",
       "    }\n",
       "\n",
       "    .dataframe tbody tr th {\n",
       "        vertical-align: top;\n",
       "    }\n",
       "\n",
       "    .dataframe thead th {\n",
       "        text-align: right;\n",
       "    }\n",
       "</style>\n",
       "<table border=\"1\" class=\"dataframe\">\n",
       "  <thead>\n",
       "    <tr style=\"text-align: right;\">\n",
       "      <th></th>\n",
       "      <th>Numbers</th>\n",
       "      <th>leading_digit</th>\n",
       "    </tr>\n",
       "  </thead>\n",
       "  <tbody>\n",
       "    <tr>\n",
       "      <th>0</th>\n",
       "      <td>572</td>\n",
       "      <td>5</td>\n",
       "    </tr>\n",
       "    <tr>\n",
       "      <th>1</th>\n",
       "      <td>879</td>\n",
       "      <td>8</td>\n",
       "    </tr>\n",
       "    <tr>\n",
       "      <th>2</th>\n",
       "      <td>529</td>\n",
       "      <td>5</td>\n",
       "    </tr>\n",
       "    <tr>\n",
       "      <th>3</th>\n",
       "      <td>588</td>\n",
       "      <td>5</td>\n",
       "    </tr>\n",
       "    <tr>\n",
       "      <th>4</th>\n",
       "      <td>184</td>\n",
       "      <td>1</td>\n",
       "    </tr>\n",
       "  </tbody>\n",
       "</table>\n",
       "</div>"
      ],
      "text/plain": [
       "   Numbers leading_digit\n",
       "0      572             5\n",
       "1      879             8\n",
       "2      529             5\n",
       "3      588             5\n",
       "4      184             1"
      ]
     },
     "execution_count": 18,
     "metadata": {},
     "output_type": "execute_result"
    }
   ],
   "source": [
    "df['leading_digit'] = df['Numbers'].apply(lambda x:str(x)[0])\n",
    "df.head()"
   ]
  },
  {
   "cell_type": "code",
   "execution_count": 52,
   "metadata": {},
   "outputs": [
    {
     "data": {
      "text/plain": [
       "{'9': 1726,\n",
       " '3': 1706,\n",
       " '6': 1695,\n",
       " '2': 1694,\n",
       " '5': 1684,\n",
       " '7': 1654,\n",
       " '1': 1631,\n",
       " '8': 1614,\n",
       " '4': 1596}"
      ]
     },
     "execution_count": 52,
     "metadata": {},
     "output_type": "execute_result"
    }
   ],
   "source": [
    "leading_digits_count = df['leading_digit'].value_counts()\n",
    "leading_digits_dict = leading_digits_count.to_dict()\n",
    "leading_digits_dict = "
   ]
  },
  {
   "cell_type": "code",
   "execution_count": 55,
   "metadata": {},
   "outputs": [],
   "source": [
    "def isnumeric(x):\n",
    "    try:\n",
    "        x = int(x)\n",
    "        return True \n",
    "    except:\n",
    "        return False "
   ]
  },
  {
   "cell_type": "code",
   "execution_count": 68,
   "metadata": {},
   "outputs": [
    {
     "data": {
      "text/plain": [
       "{'9': 1726,\n",
       " '3': 1706,\n",
       " '6': 1695,\n",
       " '2': 1694,\n",
       " '5': 1684,\n",
       " '7': 1654,\n",
       " '1': 1631,\n",
       " '8': 1614,\n",
       " '4': 1596}"
      ]
     },
     "execution_count": 68,
     "metadata": {},
     "output_type": "execute_result"
    }
   ],
   "source": [
    "leading_digits_count = df['leading_digit'].value_counts()\n",
    "leading_digits_dict = leading_digits_count.to_dict()\n",
    "# sorted_dict = {}\n",
    "# for k in sorted(leading_digits_dict):\n",
    "#     if isnumeric(k):\n",
    "#         if int(k) > 0:\n",
    "#             sorted_dict[k] = leading_digits_dict[k]\n",
    "# sorted_dict = {k: leading_digits_dict[k] for k in sorted(leading_digits_dict)}\n",
    "# sorted_dict\n",
    "leading_digits_dict"
   ]
  },
  {
   "cell_type": "code",
   "execution_count": 27,
   "metadata": {},
   "outputs": [
    {
     "data": {
      "text/plain": [
       "{'1': 0.10873333333333333,\n",
       " '2': 0.11293333333333333,\n",
       " '3': 0.11373333333333334,\n",
       " '4': 0.1064,\n",
       " '5': 0.11226666666666667,\n",
       " '6': 0.113,\n",
       " '7': 0.11026666666666667,\n",
       " '8': 0.1076,\n",
       " '9': 0.11506666666666666}"
      ]
     },
     "execution_count": 27,
     "metadata": {},
     "output_type": "execute_result"
    }
   ],
   "source": [
    "probability_dict = {k: sorted_dict[k]/sum(sorted_dict.values()) for k in sorted_dict.keys()}\n",
    "probability_dict"
   ]
  },
  {
   "cell_type": "code",
   "execution_count": 34,
   "metadata": {},
   "outputs": [
    {
     "data": {
      "image/png": "[encoded data removed]",
      "text/plain": [
       "<Figure size 720x360 with 1 Axes>"
      ]
     },
     "metadata": {
      "needs_background": "light"
     },
     "output_type": "display_data"
    }
   ],
   "source": [
    "fig = plt.figure(figsize=(10,5))\n",
    "plt.bar(probability_dict.keys(),probability_dict.values())\n",
    "plt.xlabel(\"Leading Digits\")\n",
    "plt.ylabel(\"Probability\")\n",
    "plt.title(\"Probability distribution of first significant digit\")\n",
    "plt.savefig(\"data_distribution.png\")\n",
    "plt.show()"
   ]
  },
  {
   "cell_type": "code",
   "execution_count": 33,
   "metadata": {},
   "outputs": [
    {
     "data": {
      "text/plain": [
       "{1: 0.3010299956639812,\n",
       " 2: 0.17609125905568124,\n",
       " 3: 0.12493873660829993,\n",
       " 4: 0.09691001300805642,\n",
       " 5: 0.07918124604762482,\n",
       " 6: 0.06694678963061322,\n",
       " 7: 0.05799194697768673,\n",
       " 8: 0.05115252244738129,\n",
       " 9: 0.04575749056067514}"
      ]
     },
     "execution_count": 33,
     "metadata": {},
     "output_type": "execute_result"
    }
   ],
   "source": [
    "# benford formul\n",
    "benford_distribution = {k: np.log10(1+(1/k)) for k in range(1,10)}\n",
    "benford_distribution"
   ]
  },
  {
   "cell_type": "code",
   "execution_count": 80,
   "metadata": {},
   "outputs": [
    {
     "data": {
      "image/png": "[encoded data removed]",
      "text/plain": [
       "<Figure size 720x360 with 1 Axes>"
      ]
     },
     "metadata": {
      "needs_background": "light"
     },
     "output_type": "display_data"
    }
   ],
   "source": [
    "fig = plt.figure(figsize=(10,5))\n",
    "plt.bar(benford_distribution.keys(),benford_distribution.values())\n",
    "plt.xlabel(\"Leading Digits\")\n",
    "plt.ylabel(\"Probability\")\n",
    "plt.title(\"Actual Probability distribution according to Benford's law\")\n",
    "plt.savefig(\"data_distribution.png\")\n",
    "plt.show()"
   ]
  },
  {
   "cell_type": "code",
   "execution_count": null,
   "metadata": {},
   "outputs": [],
   "source": [
    "benford_key_order = benford_distribution.keys()"
   ]
  }
 ],
 "metadata": {
  "kernelspec": {
   "display_name": ".aivenv",
   "language": "python",
   "name": "python3"
  },
  "language_info": {
   "codemirror_mode": {
    "name": "ipython",
    "version": 3
   },
   "file_extension": ".py",
   "mimetype": "text/x-python",
   "name": "python",
   "nbconvert_exporter": "python",
   "pygments_lexer": "ipython3",
   "version": "3.8.5"
  },
  "orig_nbformat": 4
 },
 "nbformat": 4,
 "nbformat_minor": 2
}
